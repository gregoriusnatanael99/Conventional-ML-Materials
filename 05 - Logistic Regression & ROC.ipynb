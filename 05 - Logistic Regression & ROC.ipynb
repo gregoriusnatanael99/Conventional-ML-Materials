{
 "cells": [
  {
   "cell_type": "code",
   "execution_count": 140,
   "metadata": {},
   "outputs": [],
   "source": [
    "import pandas as pd\n",
    "import os\n",
    "import numpy as np\n",
    "import random\n",
    "from tqdm import tqdm\n",
    "import seaborn as sns\n",
    "from matplotlib import pyplot as plt\n",
    "from datetime import datetime as dt\n",
    "from sklearn.preprocessing import StandardScaler,MinMaxScaler,RobustScaler,LabelEncoder,OneHotEncoder,OrdinalEncoder, MultiLabelBinarizer\n",
    "from sklearn.model_selection import train_test_split\n",
    "from sklearn import datasets\n",
    "\n",
    "from sklearn.linear_model import LogisticRegression\n",
    "from sklearn.model_selection import GridSearchCV\n",
    "from sklearn.metrics import accuracy_score, precision_recall_curve, roc_auc_score, roc_curve, confusion_matrix, classification_report, precision_score, recall_score, f1_score, ConfusionMatrixDisplay, average_precision_score\n",
    "\n",
    "from sklearn.utils.class_weight import compute_class_weight\n",
    "from imblearn.over_sampling import RandomOverSampler, SMOTE\n",
    "from imblearn.under_sampling import RandomUnderSampler\n",
    "\n",
    "SEED = 123\n",
    "random.seed(SEED)\n",
    "np.random.seed(SEED)"
   ]
  },
  {
   "cell_type": "code",
   "execution_count": 21,
   "metadata": {},
   "outputs": [
    {
     "name": "stdout",
     "output_type": "stream",
     "text": [
      "(5110, 12)\n"
     ]
    },
    {
     "data": {
      "text/html": [
       "<div>\n",
       "<style scoped>\n",
       "    .dataframe tbody tr th:only-of-type {\n",
       "        vertical-align: middle;\n",
       "    }\n",
       "\n",
       "    .dataframe tbody tr th {\n",
       "        vertical-align: top;\n",
       "    }\n",
       "\n",
       "    .dataframe thead th {\n",
       "        text-align: right;\n",
       "    }\n",
       "</style>\n",
       "<table border=\"1\" class=\"dataframe\">\n",
       "  <thead>\n",
       "    <tr style=\"text-align: right;\">\n",
       "      <th></th>\n",
       "      <th>id</th>\n",
       "      <th>gender</th>\n",
       "      <th>age</th>\n",
       "      <th>hypertension</th>\n",
       "      <th>heart_disease</th>\n",
       "      <th>ever_married</th>\n",
       "      <th>work_type</th>\n",
       "      <th>Residence_type</th>\n",
       "      <th>avg_glucose_level</th>\n",
       "      <th>bmi</th>\n",
       "      <th>smoking_status</th>\n",
       "      <th>stroke</th>\n",
       "    </tr>\n",
       "  </thead>\n",
       "  <tbody>\n",
       "    <tr>\n",
       "      <th>0</th>\n",
       "      <td>9046</td>\n",
       "      <td>Male</td>\n",
       "      <td>67.0</td>\n",
       "      <td>0</td>\n",
       "      <td>1</td>\n",
       "      <td>Yes</td>\n",
       "      <td>Private</td>\n",
       "      <td>Urban</td>\n",
       "      <td>228.69</td>\n",
       "      <td>36.6</td>\n",
       "      <td>formerly smoked</td>\n",
       "      <td>1</td>\n",
       "    </tr>\n",
       "    <tr>\n",
       "      <th>1</th>\n",
       "      <td>51676</td>\n",
       "      <td>Female</td>\n",
       "      <td>61.0</td>\n",
       "      <td>0</td>\n",
       "      <td>0</td>\n",
       "      <td>Yes</td>\n",
       "      <td>Self-employed</td>\n",
       "      <td>Rural</td>\n",
       "      <td>202.21</td>\n",
       "      <td>NaN</td>\n",
       "      <td>never smoked</td>\n",
       "      <td>1</td>\n",
       "    </tr>\n",
       "    <tr>\n",
       "      <th>2</th>\n",
       "      <td>31112</td>\n",
       "      <td>Male</td>\n",
       "      <td>80.0</td>\n",
       "      <td>0</td>\n",
       "      <td>1</td>\n",
       "      <td>Yes</td>\n",
       "      <td>Private</td>\n",
       "      <td>Rural</td>\n",
       "      <td>105.92</td>\n",
       "      <td>32.5</td>\n",
       "      <td>never smoked</td>\n",
       "      <td>1</td>\n",
       "    </tr>\n",
       "    <tr>\n",
       "      <th>3</th>\n",
       "      <td>60182</td>\n",
       "      <td>Female</td>\n",
       "      <td>49.0</td>\n",
       "      <td>0</td>\n",
       "      <td>0</td>\n",
       "      <td>Yes</td>\n",
       "      <td>Private</td>\n",
       "      <td>Urban</td>\n",
       "      <td>171.23</td>\n",
       "      <td>34.4</td>\n",
       "      <td>smokes</td>\n",
       "      <td>1</td>\n",
       "    </tr>\n",
       "    <tr>\n",
       "      <th>4</th>\n",
       "      <td>1665</td>\n",
       "      <td>Female</td>\n",
       "      <td>79.0</td>\n",
       "      <td>1</td>\n",
       "      <td>0</td>\n",
       "      <td>Yes</td>\n",
       "      <td>Self-employed</td>\n",
       "      <td>Rural</td>\n",
       "      <td>174.12</td>\n",
       "      <td>24.0</td>\n",
       "      <td>never smoked</td>\n",
       "      <td>1</td>\n",
       "    </tr>\n",
       "  </tbody>\n",
       "</table>\n",
       "</div>"
      ],
      "text/plain": [
       "      id  gender   age  hypertension  heart_disease ever_married  \\\n",
       "0   9046    Male  67.0             0              1          Yes   \n",
       "1  51676  Female  61.0             0              0          Yes   \n",
       "2  31112    Male  80.0             0              1          Yes   \n",
       "3  60182  Female  49.0             0              0          Yes   \n",
       "4   1665  Female  79.0             1              0          Yes   \n",
       "\n",
       "       work_type Residence_type  avg_glucose_level   bmi   smoking_status  \\\n",
       "0        Private          Urban             228.69  36.6  formerly smoked   \n",
       "1  Self-employed          Rural             202.21   NaN     never smoked   \n",
       "2        Private          Rural             105.92  32.5     never smoked   \n",
       "3        Private          Urban             171.23  34.4           smokes   \n",
       "4  Self-employed          Rural             174.12  24.0     never smoked   \n",
       "\n",
       "   stroke  \n",
       "0       1  \n",
       "1       1  \n",
       "2       1  \n",
       "3       1  \n",
       "4       1  "
      ]
     },
     "execution_count": 21,
     "metadata": {},
     "output_type": "execute_result"
    }
   ],
   "source": [
    "df = pd.read_csv('./Dataset/healthcare-dataset-stroke-data.csv')\n",
    "print(df.shape)\n",
    "df.head()"
   ]
  },
  {
   "cell_type": "code",
   "execution_count": 22,
   "metadata": {},
   "outputs": [
    {
     "name": "stdout",
     "output_type": "stream",
     "text": [
      "Categorical: ['gender', 'ever_married', 'work_type', 'Residence_type', 'smoking_status', 'hypertension', 'heart_disease', 'stroke']\n",
      "Numeric: ['age', 'avg_glucose_level', 'bmi']\n"
     ]
    }
   ],
   "source": [
    "df = df.drop(columns=['id'])\n",
    "df = df.drop_duplicates().reset_index(drop=True)\n",
    "cat_cols = []\n",
    "num_cols = []\n",
    "\n",
    "for i in df.columns:\n",
    "    # print(str(df[i].dtype))\n",
    "    if 'int' in str(df[i].dtype) or 'float' in str(df[i].dtype):\n",
    "        num_cols.append(i)\n",
    "    else:\n",
    "        cat_cols.append(i)\n",
    "\n",
    "num_cols = [i for i in num_cols if i not in ['hypertension','heart_disease','stroke']]\n",
    "cat_cols.extend(['hypertension','heart_disease','stroke'])\n",
    "\n",
    "print(f'Categorical: {cat_cols}')\n",
    "print(f'Numeric: {num_cols}')"
   ]
  },
  {
   "cell_type": "code",
   "execution_count": 13,
   "metadata": {},
   "outputs": [
    {
     "data": {
      "image/png": "[encoded data removed]",
      "text/plain": [
       "<Figure size 1000x300 with 2 Axes>"
      ]
     },
     "metadata": {},
     "output_type": "display_data"
    },
    {
     "name": "stdout",
     "output_type": "stream",
     "text": [
      "Skewness: -0.1370593225984694\n",
      "Kurtosis: -0.9910102432016696\n"
     ]
    },
    {
     "data": {
      "image/png": "[encoded data removed]",
      "text/plain": [
       "<Figure size 1000x300 with 2 Axes>"
      ]
     },
     "metadata": {},
     "output_type": "display_data"
    },
    {
     "name": "stdout",
     "output_type": "stream",
     "text": [
      "Skewness: 1.5722838665030459\n",
      "Kurtosis: 1.6804785404038278\n"
     ]
    },
    {
     "data": {
      "image/png": "[encoded data removed]",
      "text/plain": [
       "<Figure size 1000x300 with 2 Axes>"
      ]
     },
     "metadata": {},
     "output_type": "display_data"
    },
    {
     "name": "stdout",
     "output_type": "stream",
     "text": [
      "Skewness: 1.0553402052962912\n",
      "Kurtosis: 3.3626591656236746\n"
     ]
    }
   ],
   "source": [
    "def check_distribution_outliers(df, columns):\n",
    "    for col in columns:\n",
    "        plt.figure(figsize=(10, 3))\n",
    "\n",
    "        # Histogram\n",
    "        plt.subplot(1, 2, 1)\n",
    "        sns.histplot(df[col], bins=30)\n",
    "        plt.title('Histogram')\n",
    "\n",
    "        # Boxplot\n",
    "        plt.subplot(1, 2, 2)\n",
    "        sns.boxplot(y=df[col])\n",
    "        plt.title('Boxplot')\n",
    "\n",
    "        plt.show()\n",
    "\n",
    "        print('Skewness:', df[col].skew())\n",
    "        print('Kurtosis:', df[col].kurt())\n",
    "\n",
    "check_distribution_outliers(df[num_cols], num_cols)"
   ]
  },
  {
   "cell_type": "code",
   "execution_count": 14,
   "metadata": {},
   "outputs": [
    {
     "name": "stdout",
     "output_type": "stream",
     "text": [
      "gender 0\n",
      "age 0\n",
      "hypertension 0\n",
      "heart_disease 0\n",
      "ever_married 0\n",
      "work_type 0\n",
      "Residence_type 0\n",
      "avg_glucose_level 0\n",
      "bmi 201\n",
      "smoking_status 0\n",
      "stroke 0\n"
     ]
    }
   ],
   "source": [
    "for i in df.columns:\n",
    "    print(i, df[i].isna().sum())"
   ]
  },
  {
   "cell_type": "code",
   "execution_count": 53,
   "metadata": {},
   "outputs": [],
   "source": [
    "df = df.dropna(subset=['bmi']).reset_index(drop=True)"
   ]
  },
  {
   "cell_type": "code",
   "execution_count": 23,
   "metadata": {},
   "outputs": [
    {
     "name": "stdout",
     "output_type": "stream",
     "text": [
      "gender\n",
      "Female    2994\n",
      "Male      2115\n",
      "Other        1\n",
      "Name: count, dtype: int64 \n",
      "\n",
      "ever_married\n",
      "Yes    3353\n",
      "No     1757\n",
      "Name: count, dtype: int64 \n",
      "\n",
      "work_type\n",
      "Private          2925\n",
      "Self-employed     819\n",
      "children          687\n",
      "Govt_job          657\n",
      "Never_worked       22\n",
      "Name: count, dtype: int64 \n",
      "\n",
      "Residence_type\n",
      "Urban    2596\n",
      "Rural    2514\n",
      "Name: count, dtype: int64 \n",
      "\n",
      "smoking_status\n",
      "never smoked       1892\n",
      "Unknown            1544\n",
      "formerly smoked     885\n",
      "smokes              789\n",
      "Name: count, dtype: int64 \n",
      "\n",
      "hypertension\n",
      "0    4612\n",
      "1     498\n",
      "Name: count, dtype: int64 \n",
      "\n",
      "heart_disease\n",
      "0    4834\n",
      "1     276\n",
      "Name: count, dtype: int64 \n",
      "\n",
      "stroke\n",
      "0    4861\n",
      "1     249\n",
      "Name: count, dtype: int64 \n",
      "\n"
     ]
    }
   ],
   "source": [
    "for i in cat_cols:\n",
    "    print(df[i].value_counts(),'\\n')"
   ]
  },
  {
   "cell_type": "code",
   "execution_count": 54,
   "metadata": {},
   "outputs": [],
   "source": [
    "df = df[df['gender']!='Other']"
   ]
  },
  {
   "cell_type": "code",
   "execution_count": 55,
   "metadata": {},
   "outputs": [],
   "source": [
    "bin_cols = ['Residence_type','ever_married','gender']\n",
    "\n",
    "ord_enc = OrdinalEncoder(categories=[['never smoked','Unknown','formerly smoked','smokes']])\n",
    "ohe_enc = OneHotEncoder(sparse_output=False)\n",
    "bin_enc_dict = {}"
   ]
  },
  {
   "cell_type": "code",
   "execution_count": 56,
   "metadata": {},
   "outputs": [],
   "source": [
    "oh_encoded = ohe_enc.fit_transform(pd.DataFrame(df['work_type']))\n",
    "one_hot_df = pd.DataFrame(oh_encoded, columns=ohe_enc.get_feature_names_out(['work_type']))"
   ]
  },
  {
   "cell_type": "code",
   "execution_count": 57,
   "metadata": {},
   "outputs": [
    {
     "data": {
      "text/html": [
       "<div>\n",
       "<style scoped>\n",
       "    .dataframe tbody tr th:only-of-type {\n",
       "        vertical-align: middle;\n",
       "    }\n",
       "\n",
       "    .dataframe tbody tr th {\n",
       "        vertical-align: top;\n",
       "    }\n",
       "\n",
       "    .dataframe thead th {\n",
       "        text-align: right;\n",
       "    }\n",
       "</style>\n",
       "<table border=\"1\" class=\"dataframe\">\n",
       "  <thead>\n",
       "    <tr style=\"text-align: right;\">\n",
       "      <th></th>\n",
       "      <th>gender</th>\n",
       "      <th>age</th>\n",
       "      <th>hypertension</th>\n",
       "      <th>heart_disease</th>\n",
       "      <th>ever_married</th>\n",
       "      <th>Residence_type</th>\n",
       "      <th>avg_glucose_level</th>\n",
       "      <th>bmi</th>\n",
       "      <th>smoking_status</th>\n",
       "      <th>stroke</th>\n",
       "      <th>work_type_Govt_job</th>\n",
       "      <th>work_type_Never_worked</th>\n",
       "      <th>work_type_Private</th>\n",
       "      <th>work_type_Self-employed</th>\n",
       "      <th>work_type_children</th>\n",
       "    </tr>\n",
       "  </thead>\n",
       "  <tbody>\n",
       "    <tr>\n",
       "      <th>0</th>\n",
       "      <td>1</td>\n",
       "      <td>67.0</td>\n",
       "      <td>0</td>\n",
       "      <td>1</td>\n",
       "      <td>1</td>\n",
       "      <td>1</td>\n",
       "      <td>228.69</td>\n",
       "      <td>36.6</td>\n",
       "      <td>2.0</td>\n",
       "      <td>1</td>\n",
       "      <td>0</td>\n",
       "      <td>0</td>\n",
       "      <td>1</td>\n",
       "      <td>0</td>\n",
       "      <td>0</td>\n",
       "    </tr>\n",
       "    <tr>\n",
       "      <th>1</th>\n",
       "      <td>1</td>\n",
       "      <td>80.0</td>\n",
       "      <td>0</td>\n",
       "      <td>1</td>\n",
       "      <td>1</td>\n",
       "      <td>0</td>\n",
       "      <td>105.92</td>\n",
       "      <td>32.5</td>\n",
       "      <td>0.0</td>\n",
       "      <td>1</td>\n",
       "      <td>0</td>\n",
       "      <td>0</td>\n",
       "      <td>1</td>\n",
       "      <td>0</td>\n",
       "      <td>0</td>\n",
       "    </tr>\n",
       "    <tr>\n",
       "      <th>2</th>\n",
       "      <td>0</td>\n",
       "      <td>49.0</td>\n",
       "      <td>0</td>\n",
       "      <td>0</td>\n",
       "      <td>1</td>\n",
       "      <td>1</td>\n",
       "      <td>171.23</td>\n",
       "      <td>34.4</td>\n",
       "      <td>3.0</td>\n",
       "      <td>1</td>\n",
       "      <td>0</td>\n",
       "      <td>0</td>\n",
       "      <td>1</td>\n",
       "      <td>0</td>\n",
       "      <td>0</td>\n",
       "    </tr>\n",
       "    <tr>\n",
       "      <th>3</th>\n",
       "      <td>0</td>\n",
       "      <td>79.0</td>\n",
       "      <td>1</td>\n",
       "      <td>0</td>\n",
       "      <td>1</td>\n",
       "      <td>0</td>\n",
       "      <td>174.12</td>\n",
       "      <td>24.0</td>\n",
       "      <td>0.0</td>\n",
       "      <td>1</td>\n",
       "      <td>0</td>\n",
       "      <td>0</td>\n",
       "      <td>0</td>\n",
       "      <td>1</td>\n",
       "      <td>0</td>\n",
       "    </tr>\n",
       "    <tr>\n",
       "      <th>4</th>\n",
       "      <td>1</td>\n",
       "      <td>81.0</td>\n",
       "      <td>0</td>\n",
       "      <td>0</td>\n",
       "      <td>1</td>\n",
       "      <td>1</td>\n",
       "      <td>186.21</td>\n",
       "      <td>29.0</td>\n",
       "      <td>2.0</td>\n",
       "      <td>1</td>\n",
       "      <td>0</td>\n",
       "      <td>0</td>\n",
       "      <td>1</td>\n",
       "      <td>0</td>\n",
       "      <td>0</td>\n",
       "    </tr>\n",
       "  </tbody>\n",
       "</table>\n",
       "</div>"
      ],
      "text/plain": [
       "   gender   age  hypertension  heart_disease  ever_married  Residence_type  \\\n",
       "0       1  67.0             0              1             1               1   \n",
       "1       1  80.0             0              1             1               0   \n",
       "2       0  49.0             0              0             1               1   \n",
       "3       0  79.0             1              0             1               0   \n",
       "4       1  81.0             0              0             1               1   \n",
       "\n",
       "   avg_glucose_level   bmi  smoking_status  stroke  work_type_Govt_job  \\\n",
       "0             228.69  36.6             2.0       1                   0   \n",
       "1             105.92  32.5             0.0       1                   0   \n",
       "2             171.23  34.4             3.0       1                   0   \n",
       "3             174.12  24.0             0.0       1                   0   \n",
       "4             186.21  29.0             2.0       1                   0   \n",
       "\n",
       "   work_type_Never_worked  work_type_Private  work_type_Self-employed  \\\n",
       "0                       0                  1                        0   \n",
       "1                       0                  1                        0   \n",
       "2                       0                  1                        0   \n",
       "3                       0                  0                        1   \n",
       "4                       0                  1                        0   \n",
       "\n",
       "   work_type_children  \n",
       "0                   0  \n",
       "1                   0  \n",
       "2                   0  \n",
       "3                   0  \n",
       "4                   0  "
      ]
     },
     "execution_count": 57,
     "metadata": {},
     "output_type": "execute_result"
    }
   ],
   "source": [
    "data = df.copy().reset_index(drop=True)\n",
    "data['smoking_status'] = ord_enc.fit_transform(df[['smoking_status']])\n",
    "for i in bin_cols:\n",
    "    bin_enc_dict[i] = LabelEncoder()\n",
    "    data[i] = bin_enc_dict[i].fit_transform(data[i])\n",
    "\n",
    "data = pd.concat([data.drop(columns=['work_type']),one_hot_df.astype('int')],axis=1)\n",
    "data.head()"
   ]
  },
  {
   "cell_type": "markdown",
   "metadata": {},
   "source": [
    "# No Sampling"
   ]
  },
  {
   "cell_type": "code",
   "execution_count": 58,
   "metadata": {},
   "outputs": [
    {
     "name": "stdout",
     "output_type": "stream",
     "text": [
      "(3926, 14) (982, 14)\n"
     ]
    }
   ],
   "source": [
    "x = data[data.columns.drop('stroke')]\n",
    "y = data['stroke']\n",
    "\n",
    "x_train, x_test, y_train, y_test = train_test_split(x,y, test_size=0.2,random_state=123)\n",
    "print(x_train.shape,x_test.shape)"
   ]
  },
  {
   "cell_type": "code",
   "execution_count": 59,
   "metadata": {},
   "outputs": [],
   "source": [
    "rob_scaler = RobustScaler()\n",
    "x_train[num_cols] = rob_scaler.fit_transform(x_train[num_cols])\n",
    "x_test[num_cols] = rob_scaler.transform(x_test[num_cols])\n"
   ]
  },
  {
   "cell_type": "code",
   "execution_count": 63,
   "metadata": {},
   "outputs": [],
   "source": [
    "model = LogisticRegression()\n",
    "model.fit(x_train, y_train)\n",
    "\n",
    "y_preds = model.predict(x_test)\n",
    "y_preds_proba = model.predict_proba(x_test)"
   ]
  },
  {
   "cell_type": "code",
   "execution_count": 90,
   "metadata": {},
   "outputs": [
    {
     "name": "stdout",
     "output_type": "stream",
     "text": [
      "[0 0 0 0 0 0 0 0 0 0 0 0 0 0 0 0 0 0 0 0 0 0 0 0 0 0 0 0 0 0 0 0 0 0 0 0 0\n",
      " 0 0 0 0 0 0 0 0 0 0 0 0 0 0 0 0 0 0 0 0 0 0 0 0 0 0 0 0 0 0 0 0 0 0 0 0 0\n",
      " 0 0 0 0 0 0 0 0 0 0 0 0 0 0 0 0 0 0 0 0 0 0 0 0 0 0 0 0 0 0 0 0 0 0 0 0 0\n",
      " 0 0 0 0 0 0 0 0 0 0 0 0 0 0 0 0 0 0 0 0 0 0 0 0 0 0 0 0 0 0 0 0 0 0 0 0 0\n",
      " 0 0 0 0 0 0 0 0 0 0 0 0 0 0 0 0 0 0 0 0 0 0 0 0 0 0 0 0 0 0 0 0 0 0 0 0 0\n",
      " 0 0 0 0 0 0 0 0 0 0 0 0 0 0 0 0 0 0 0 0 0 0 0 0 0 0 0 0 0 0 0 0 0 0 0 0 0\n",
      " 0 0 0 0 0 0 0 0 0 0 0 0 0 0 0 0 0 0 0 0 0 0 0 0 0 0 0 0 0 0 0 0 0 0 0 0 0\n",
      " 0 0 0 0 0 0 0 0 0 0 0 0 0 0 0 0 0 0 0 0 0 0 0 0 0 0 0 0 0 0 0 0 0 0 0 0 0\n",
      " 0 0 0 0 0 0 0 0 0 0 0 0 0 0 0 0 0 0 0 0 0 0 0 0 0 0 0 0 0 0 0 0 0 0 0 0 0\n",
      " 0 0 0 0 0 0 0 0 0 0 0 0 0 0 0 0 0 0 0 0 0 0 0 0 0 0 0 0 0 0 0 0 0 0 0 0 0\n",
      " 0 0 0 0 0 0 0 0 0 0 0 0 0 0 0 0 0 0 0 0 0 0 0 0 0 0 0 0 0 0 0 0 0 0 0 0 0\n",
      " 0 0 0 0 0 0 0 0 0 0 0 0 0 0 0 0 0 0 0 0 0 0 0 0 0 0 0 0 0 0 0 0 0 0 0 0 0\n",
      " 0 0 0 0 0 0 0 0 0 0 0 0 0 0 0 0 0 0 0 0 0 0 0 0 0 0 0 0 0 0 0 0 0 0 0 0 0\n",
      " 0 0 0 0 0 0 0 0 0 0 0 0 0 0 0 0 0 0 0 0 0 0 0 0 0 0 0 0 0 0 0 0 0 0 0 0 0\n",
      " 0 0 0 0 0 0 0 0 0 0 0 0 0 0 0 0 0 0 0 0 0 0 0 0 0 0 0 0 0 0 0 0 0 0 0 0 0\n",
      " 0 0 0 0 0 0 0 0 0 0 0 0 0 0 0 0 0 0 0 0 0 0 0 0 0 0 0 0 0 0 0 0 0 0 0 0 0\n",
      " 0 0 0 0 0 0 0 0 0 0 0 0 0 0 0 0 0 0 0 0 0 0 0 0 0 0 0 0 0 0 0 0 0 0 0 0 0\n",
      " 0 0 0 0 0 0 0 0 0 0 0 0 0 0 0 0 0 0 0 0 0 0 0 0 0 0 0 0 0 0 0 0 0 0 0 0 0\n",
      " 0 0 0 0 0 0 0 0 0 0 0 0 0 0 0 0 0 0 0 0 0 0 0 0 0 0 0 0 0 0 0 0 0 0 0 0 0\n",
      " 0 0 0 0 0 0 0 0 0 0 0 0 0 0 0 0 0 0 0 0 0 0 0 0 0 0 0 0 0 0 0 0 0 0 0 0 0\n",
      " 0 0 0 0 0 0 0 0 0 0 0 0 0 0 0 0 0 0 0 0 0 0 0 0 0 0 0 0 0 0 0 0 0 0 0 0 0\n",
      " 0 0 0 0 0 0 0 0 0 0 0 0 0 0 0 0 0 0 0 0 0 0 0 0 0 0 0 0 0 0 0 0 0 0 0 0 0\n",
      " 0 0 0 0 0 0 0 0 0 0 0 0 0 0 0 0 0 0 0 0 0 0 0 0 0 0 0 0 0 0 0 0 0 0 0 0 0\n",
      " 0 0 0 0 0 0 0 0 0 0 0 0 0 0 0 0 0 0 0 0 0 0 0 0 0 0 0 0 0 0 0 0 0 0 0 0 0\n",
      " 0 0 0 0 0 0 0 0 0 0 0 0 0 0 0 0 0 0 0 0 0 0 0 0 0 0 0 0 0 0 0 0 0 0 0 0 0\n",
      " 0 0 0 0 0 0 0 0 0 0 0 0 0 0 0 0 0 0 0 0 0 0 0 0 0 0 0 0 0 0 0 0 0 0 0 0 0\n",
      " 0 0 0 0 0 0 0 0 0 0 0 0 0 0 0 0 0 0 0 0] [0.0859965  0.01953195 0.01484922 0.00107508 0.0110401  0.00928128\n",
      " 0.13218741 0.10860376 0.00223805 0.02659614 0.01421292 0.02130322\n",
      " 0.00232406 0.06227839 0.00228292 0.06279712 0.024123   0.05358016\n",
      " 0.00350509 0.00778425 0.00306703 0.00902734 0.08269973 0.17344691\n",
      " 0.00263167 0.00207777 0.2521592  0.11035101 0.06520217 0.02890976\n",
      " 0.04083676 0.00366012 0.05248637 0.05685648 0.15575348 0.13121504\n",
      " 0.00706065 0.03248154 0.01794846 0.07548514 0.12273704 0.00138709\n",
      " 0.00991849 0.02421005 0.01432447 0.01089528 0.00167891 0.00196331\n",
      " 0.00180434 0.00627724 0.01342792 0.02219482 0.1272647  0.21788931\n",
      " 0.05170422 0.0025233  0.01837943 0.00138564 0.00605388 0.15110062\n",
      " 0.0754709  0.02395804 0.15257898 0.03160966 0.0035787  0.06351102\n",
      " 0.04641613 0.00652142 0.00252806 0.00283713 0.00167148 0.00743028\n",
      " 0.04304267 0.00227017 0.22905351 0.07889718 0.07609864 0.03960744\n",
      " 0.00259751 0.0061148  0.00602348 0.0434524  0.21544737 0.00156269\n",
      " 0.15362036 0.00118789 0.00186623 0.06379331 0.10284744 0.00787806\n",
      " 0.00334987 0.00463338 0.00126008 0.00977013 0.00652335 0.04386562\n",
      " 0.15178297 0.00160546 0.07964064 0.00649174 0.00136898 0.01999332\n",
      " 0.001253   0.00526121 0.00474832 0.01520564 0.14581519 0.03009911\n",
      " 0.04953414 0.01350556 0.03481034 0.06500211 0.01117398 0.00471158\n",
      " 0.13242497 0.04751102 0.00917897 0.00550589 0.03000948 0.00263823\n",
      " 0.1056897  0.00648601 0.00336143 0.00829119 0.0800744  0.00450788\n",
      " 0.01111853 0.05826697 0.09222236 0.001492   0.04730949 0.13066776\n",
      " 0.01783054 0.02633061 0.10091629 0.00220408 0.00660584 0.00306005\n",
      " 0.002489   0.02771636 0.0240268  0.01084066 0.0976372  0.0057107\n",
      " 0.15514725 0.05333064 0.01308046 0.01192129 0.13807892 0.020942\n",
      " 0.06222395 0.00773818 0.01887491 0.00669445 0.01354576 0.08620665\n",
      " 0.01074683 0.00132917 0.04168656 0.01568164 0.00561721 0.11379705\n",
      " 0.12205637 0.01490206 0.01426174 0.01891777 0.0073516  0.06537673\n",
      " 0.00723463 0.00143067 0.00209964 0.00461117 0.00422707 0.06599283\n",
      " 0.00862961 0.13928937 0.07730172 0.00502469 0.01948961 0.03154144\n",
      " 0.0237791  0.03546684 0.20934059 0.00461132 0.00894881 0.01243685\n",
      " 0.00721383 0.10751341 0.00219083 0.06975353 0.20104913 0.00239086\n",
      " 0.05626789 0.00293514 0.00884056 0.0022476  0.00851348 0.00177146\n",
      " 0.10468082 0.17185053 0.0109775  0.00761808 0.16229924 0.16574293\n",
      " 0.00524444 0.02472202 0.17255713 0.00643252 0.00192358 0.00726238\n",
      " 0.00810119 0.01386417 0.22839231 0.00115871 0.00371728 0.00502132\n",
      " 0.15567214 0.00247643 0.00863456 0.03263737 0.0562294  0.00309442\n",
      " 0.01791457 0.01414552 0.02253221 0.06228079 0.01243248 0.00286799\n",
      " 0.02105055 0.05049974 0.01103268 0.00737216 0.00472168 0.00149634\n",
      " 0.06101522 0.03009054 0.01123473 0.01292563 0.02166918 0.07326581\n",
      " 0.07494652 0.00354786 0.02130831 0.05243254 0.0740514  0.04868239\n",
      " 0.00522859 0.0042958  0.00197296 0.00859399 0.01905957 0.18139477\n",
      " 0.05899768 0.01143216 0.02810318 0.00301098 0.0167911  0.00455272\n",
      " 0.01092663 0.08626569 0.00931774 0.22252477 0.02569044 0.00795124\n",
      " 0.00125281 0.004352   0.31540007 0.01877694 0.02540981 0.00124428\n",
      " 0.0029217  0.01979261 0.00119952 0.14142927 0.04944804 0.08275002\n",
      " 0.02082507 0.01870994 0.00551364 0.01610956 0.09249166 0.00110894\n",
      " 0.00193971 0.03512068 0.00892817 0.01476641 0.33917953 0.1239585\n",
      " 0.00908782 0.04395753 0.00925075 0.00314781 0.16682945 0.16410653\n",
      " 0.02506975 0.0025084  0.02859286 0.01080499 0.03324168 0.01169605\n",
      " 0.01714098 0.02812496 0.02178931 0.05285437 0.02743981 0.00643556\n",
      " 0.00152346 0.00103383 0.06086618 0.00583821 0.01508436 0.06520598\n",
      " 0.10617885 0.05939274 0.0013287  0.00836825 0.00266727 0.00380071\n",
      " 0.00152847 0.00223339 0.00183626 0.01194507 0.04364331 0.02067197\n",
      " 0.02040372 0.00450678 0.03058797 0.01850001 0.0013824  0.00708035\n",
      " 0.00180192 0.00280473 0.03658894 0.00780065 0.02054469 0.00250487\n",
      " 0.00511245 0.0274518  0.00170192 0.02107296 0.05033593 0.0012403\n",
      " 0.1256543  0.27065429 0.0044293  0.00648302 0.00553075 0.13624156\n",
      " 0.02279745 0.29610439 0.02139567 0.15664784 0.00700663 0.00560691\n",
      " 0.00555351 0.00902196 0.22775967 0.01247491 0.00540451 0.13807239\n",
      " 0.00584607 0.07190797 0.02992033 0.17216235 0.17266182 0.06629366\n",
      " 0.16563218 0.03629004 0.00096118 0.11268823 0.00212983 0.0065791\n",
      " 0.00267911 0.01758336 0.0168499  0.00149012 0.17520472 0.15602289\n",
      " 0.03221818 0.03355446 0.07851354 0.02383955 0.04180675 0.00152557\n",
      " 0.03322867 0.02105291 0.00360279 0.00233978 0.0273749  0.00152133\n",
      " 0.00249896 0.13840703 0.16444312 0.0013496  0.04529391 0.06875394\n",
      " 0.2147976  0.00502935 0.00847497 0.00250473 0.010482   0.019202\n",
      " 0.0411517  0.00438586 0.02002725 0.02779393 0.15859139 0.01669748\n",
      " 0.12088315 0.00182127 0.07847959 0.00595629 0.25299065 0.00400148\n",
      " 0.15073805 0.02719633 0.00145986 0.05176981 0.20104002 0.00670776\n",
      " 0.01066232 0.01647526 0.33603483 0.06084265 0.00146947 0.02984934\n",
      " 0.01935999 0.0186776  0.0710446  0.11488129 0.01554789 0.05084574\n",
      " 0.05130143 0.01937484 0.05092483 0.00437835 0.00456201 0.00345059\n",
      " 0.18116468 0.11626987 0.0357814  0.00129062 0.00544474 0.00342222\n",
      " 0.01921734 0.10322248 0.0467934  0.01476876 0.02092457 0.00267178\n",
      " 0.0798294  0.00904747 0.02048432 0.00286888 0.00759957 0.17018319\n",
      " 0.07628073 0.0109646  0.01835845 0.01048249 0.00278192 0.01343629\n",
      " 0.08471425 0.00471868 0.04816563 0.01183792 0.01307853 0.00318834\n",
      " 0.00187622 0.05876577 0.00640275 0.06449514 0.00784436 0.03501126\n",
      " 0.0587118  0.00499043 0.04305368 0.04244057 0.00277724 0.00646979\n",
      " 0.00238052 0.00312677 0.02168674 0.01738615 0.00670685 0.00144941\n",
      " 0.06221082 0.01166925 0.02442818 0.00788848 0.00293896 0.03703882\n",
      " 0.0009084  0.01911256 0.01943808 0.02170783 0.00113143 0.00937899\n",
      " 0.00262523 0.01007346 0.05111787 0.01351927 0.0012282  0.29294925\n",
      " 0.0017253  0.07027883 0.03429431 0.0122836  0.0407486  0.10557828\n",
      " 0.04886901 0.01942105 0.00215098 0.05968664 0.00241638 0.00221523\n",
      " 0.00589889 0.00254617 0.0031986  0.04177298 0.08883257 0.00821053\n",
      " 0.01396    0.00408977 0.15958373 0.11111742 0.00235991 0.07455019\n",
      " 0.12536463 0.00434223 0.0061615  0.0027877  0.13763869 0.01601771\n",
      " 0.01390574 0.03085878 0.00192924 0.1315291  0.0041412  0.03922531\n",
      " 0.09601378 0.00811143 0.01801857 0.00649515 0.00107584 0.05035423\n",
      " 0.00406748 0.05240935 0.015595   0.0166514  0.03681588 0.00752192\n",
      " 0.04662343 0.00407431 0.09857833 0.0045936  0.03195321 0.05168837\n",
      " 0.02042185 0.27515371 0.01127713 0.00735346 0.09859407 0.00098986\n",
      " 0.05688013 0.03179896 0.14437449 0.01350433 0.00893894 0.01364612\n",
      " 0.00357772 0.00460378 0.0077318  0.02530026 0.0019765  0.01132104\n",
      " 0.0031421  0.00676367 0.30810793 0.01358234 0.00136854 0.00729099\n",
      " 0.00432774 0.0029682  0.16075247 0.01406212 0.11784219 0.00526496\n",
      " 0.03822237 0.07385609 0.00429279 0.11618157 0.02804869 0.00645016\n",
      " 0.00812746 0.00859454 0.00310658 0.00199392 0.13655024 0.00986134\n",
      " 0.02633008 0.00328739 0.00368203 0.00465933 0.01956912 0.05259886\n",
      " 0.00880748 0.00171783 0.01048564 0.04245858 0.03179941 0.00604693\n",
      " 0.00468286 0.00201571 0.00120514 0.00429002 0.07640455 0.02606731\n",
      " 0.0099321  0.1741798  0.00568845 0.02618688 0.04054507 0.02053214\n",
      " 0.00267615 0.07350736 0.01121355 0.04089299 0.00153547 0.00541336\n",
      " 0.00800132 0.19683555 0.00267237 0.06656806 0.11144236 0.00323125\n",
      " 0.00378068 0.03778375 0.00918243 0.03449268 0.00303376 0.12633695\n",
      " 0.02206679 0.00190339 0.0152989  0.11961287 0.03192598 0.14772714\n",
      " 0.00383193 0.02115231 0.00678406 0.08541653 0.0058046  0.1140945\n",
      " 0.00674379 0.01284885 0.00184043 0.02589299 0.07579275 0.05243101\n",
      " 0.00733013 0.04475547 0.00105925 0.00275887 0.00294225 0.19013794\n",
      " 0.05769921 0.00487711 0.02134918 0.09846621 0.03079364 0.03919915\n",
      " 0.03121512 0.11789854 0.07790758 0.02036801 0.17022281 0.00269869\n",
      " 0.0041325  0.00266548 0.00184685 0.00237629 0.00819171 0.17604474\n",
      " 0.20098337 0.00344225 0.00153165 0.02980308 0.10579718 0.00513055\n",
      " 0.00262261 0.0252359  0.0216745  0.00968566 0.02670718 0.00315821\n",
      " 0.00625015 0.13923991 0.00217085 0.00532127 0.01176191 0.09252023\n",
      " 0.05573208 0.03404599 0.00340005 0.00331022 0.00453451 0.04257114\n",
      " 0.00695114 0.0092995  0.00152448 0.00334413 0.03528168 0.00661156\n",
      " 0.00120786 0.08739979 0.05745062 0.00584603 0.08363021 0.0046135\n",
      " 0.00329573 0.03469709 0.0131926  0.00460937 0.14684419 0.03577354\n",
      " 0.03355581 0.31405645 0.11888798 0.00129196 0.04717502 0.06716246\n",
      " 0.154296   0.02243048 0.00850761 0.06429527 0.03139209 0.00744146\n",
      " 0.17627022 0.00119051 0.03667016 0.04095506 0.10383638 0.01789142\n",
      " 0.00264224 0.01541123 0.00875917 0.03571373 0.09878675 0.04173059\n",
      " 0.20343933 0.01495932 0.03149665 0.12982314 0.03162215 0.01364458\n",
      " 0.02664936 0.00322009 0.03216855 0.1113963  0.05122964 0.00444413\n",
      " 0.02550644 0.08851296 0.04805167 0.02620264 0.1647224  0.09985033\n",
      " 0.18777613 0.11178108 0.00837117 0.0039848  0.0505669  0.00202587\n",
      " 0.00119639 0.00189847 0.00181688 0.02457853 0.00936795 0.00664321\n",
      " 0.00248118 0.02895498 0.01901817 0.05611227 0.42960521 0.09088077\n",
      " 0.00567548 0.10143687 0.04827259 0.0244182  0.01081847 0.00170658\n",
      " 0.00800542 0.0567327  0.0605739  0.0368858  0.00591077 0.00416309\n",
      " 0.16107732 0.03743534 0.03137739 0.01097342 0.00124778 0.06705633\n",
      " 0.01170156 0.00094786 0.04525831 0.04859229 0.00754893 0.05328004\n",
      " 0.00439375 0.00665428 0.00551189 0.00565228 0.025193   0.00789286\n",
      " 0.00252484 0.00978457 0.05475518 0.13935345 0.00695718 0.00306075\n",
      " 0.00138719 0.25044776 0.02448226 0.00452589 0.058508   0.00458116\n",
      " 0.00124005 0.00321111 0.00255394 0.00668116 0.08359613 0.00241647\n",
      " 0.05431708 0.03696596 0.02471155 0.00197861 0.06174277 0.0077709\n",
      " 0.0041229  0.01810143 0.0019202  0.0419513  0.01322316 0.03374287\n",
      " 0.00295955 0.00780536 0.00698814 0.08850753 0.06237925 0.02119871\n",
      " 0.02009194 0.04190807 0.01869186 0.04650439 0.0227042  0.00225127\n",
      " 0.00868387 0.0617528  0.02266035 0.00329319 0.09349705 0.00651336\n",
      " 0.01094389 0.00322236 0.00218619 0.00812687 0.00781584 0.00334412\n",
      " 0.02860137 0.0014146  0.00297285 0.00931451 0.03648923 0.16755214\n",
      " 0.01554655 0.01180587 0.02699308 0.04503983 0.00976182 0.12999865\n",
      " 0.00207195 0.00256152 0.01144111 0.25219965 0.03067256 0.02676285\n",
      " 0.17607977 0.06569181 0.11397618 0.07859627 0.006652   0.04100988\n",
      " 0.03789614 0.1043194  0.01848315 0.00369785 0.00283504 0.00249843\n",
      " 0.02236743 0.00256    0.00166255 0.0093906  0.02000473 0.00299131\n",
      " 0.02728836 0.00123176 0.01154117 0.15671357 0.00233545 0.0028401\n",
      " 0.0567578  0.27955488 0.00459127 0.00820301 0.12799324 0.00946711\n",
      " 0.00153643 0.04423951 0.04383824 0.03824759 0.12603867 0.01498355\n",
      " 0.04131761 0.00390239 0.03201503 0.00353891 0.01431969 0.05972704\n",
      " 0.02699355 0.05488875 0.00413725 0.00140906 0.00166161 0.00173492\n",
      " 0.00262623 0.00351353 0.04201372 0.19970386 0.01171135 0.0273012\n",
      " 0.06395669 0.00696751 0.09287901 0.10339833 0.02973088 0.00128415\n",
      " 0.00431886 0.00352875 0.00192103 0.01057982 0.02765984 0.0078458\n",
      " 0.02840491 0.01722941 0.01171255 0.03973083 0.06201933 0.0087885\n",
      " 0.00449276 0.03442589 0.00237381 0.00145438 0.0045034  0.18056012\n",
      " 0.10166115 0.1892326  0.0062189  0.00181146 0.00641492 0.00529909\n",
      " 0.10411196 0.03939333 0.05147896 0.20829393 0.01979959 0.00453462\n",
      " 0.01529034 0.00124201 0.00473459 0.03408635]\n"
     ]
    }
   ],
   "source": [
    "print(y_preds,y_preds_proba)"
   ]
  },
  {
   "cell_type": "code",
   "execution_count": 67,
   "metadata": {},
   "outputs": [
    {
     "name": "stdout",
     "output_type": "stream",
     "text": [
      "              precision    recall  f1-score   support\n",
      "\n",
      "           0       0.96      1.00      0.98       942\n",
      "           1       0.00      0.00      0.00        40\n",
      "\n",
      "    accuracy                           0.96       982\n",
      "   macro avg       0.48      0.50      0.49       982\n",
      "weighted avg       0.92      0.96      0.94       982\n",
      "\n"
     ]
    },
    {
     "name": "stderr",
     "output_type": "stream",
     "text": [
      "d:\\Anaconda\\envs\\torch_py310\\lib\\site-packages\\sklearn\\metrics\\_classification.py:1531: UndefinedMetricWarning: Precision is ill-defined and being set to 0.0 in labels with no predicted samples. Use `zero_division` parameter to control this behavior.\n",
      "  _warn_prf(average, modifier, f\"{metric.capitalize()} is\", len(result))\n",
      "d:\\Anaconda\\envs\\torch_py310\\lib\\site-packages\\sklearn\\metrics\\_classification.py:1531: UndefinedMetricWarning: Precision is ill-defined and being set to 0.0 in labels with no predicted samples. Use `zero_division` parameter to control this behavior.\n",
      "  _warn_prf(average, modifier, f\"{metric.capitalize()} is\", len(result))\n",
      "d:\\Anaconda\\envs\\torch_py310\\lib\\site-packages\\sklearn\\metrics\\_classification.py:1531: UndefinedMetricWarning: Precision is ill-defined and being set to 0.0 in labels with no predicted samples. Use `zero_division` parameter to control this behavior.\n",
      "  _warn_prf(average, modifier, f\"{metric.capitalize()} is\", len(result))\n"
     ]
    }
   ],
   "source": [
    "print(classification_report(y_test,y_pred=y_preds))"
   ]
  },
  {
   "cell_type": "code",
   "execution_count": 84,
   "metadata": {},
   "outputs": [
    {
     "name": "stdout",
     "output_type": "stream",
     "text": [
      "[[942   0]\n",
      " [ 40   0]]\n",
      "     0  1\n",
      "0  942  0\n",
      "1   40  0\n"
     ]
    }
   ],
   "source": [
    "cm = confusion_matrix(y_test,y_preds,labels = [0,1])\n",
    "print(cm)\n",
    "print(pd.DataFrame(cm))"
   ]
  },
  {
   "cell_type": "code",
   "execution_count": 83,
   "metadata": {},
   "outputs": [
    {
     "data": {
      "text/plain": [
       "<sklearn.metrics._plot.confusion_matrix.ConfusionMatrixDisplay at 0x2221c3f5540>"
      ]
     },
     "execution_count": 83,
     "metadata": {},
     "output_type": "execute_result"
    },
    {
     "data": {
      "image/png": "[encoded data removed]",
      "text/plain": [
       "<Figure size 640x480 with 2 Axes>"
      ]
     },
     "metadata": {},
     "output_type": "display_data"
    }
   ],
   "source": [
    "cm_plot = ConfusionMatrixDisplay(confusion_matrix=cm,display_labels=model.classes_)\n",
    "cm_plot.plot()\n"
   ]
  },
  {
   "cell_type": "code",
   "execution_count": 88,
   "metadata": {},
   "outputs": [],
   "source": [
    "def calc_class_metrics(y_test,y_preds,y_preds_proba=None):\n",
    "    res_dict = {}\n",
    "    res_dict['accuracy'] = accuracy_score(y_test,y_preds)\n",
    "    res_dict['recall'] = recall_score(y_test,y_preds)\n",
    "    res_dict['precision'] = precision_score(y_test,y_preds)\n",
    "    res_dict['f1_score'] = f1_score(y_test,y_preds)\n",
    "\n",
    "    if len(y_preds_proba)>0:\n",
    "        res_dict['auc'] = roc_auc_score(y_test,y_preds_proba)\n",
    "    return pd.DataFrame([res_dict])"
   ]
  },
  {
   "cell_type": "code",
   "execution_count": 91,
   "metadata": {},
   "outputs": [
    {
     "name": "stderr",
     "output_type": "stream",
     "text": [
      "d:\\Anaconda\\envs\\torch_py310\\lib\\site-packages\\sklearn\\metrics\\_classification.py:1531: UndefinedMetricWarning: Precision is ill-defined and being set to 0.0 due to no predicted samples. Use `zero_division` parameter to control this behavior.\n",
      "  _warn_prf(average, modifier, f\"{metric.capitalize()} is\", len(result))\n"
     ]
    },
    {
     "data": {
      "text/html": [
       "<div>\n",
       "<style scoped>\n",
       "    .dataframe tbody tr th:only-of-type {\n",
       "        vertical-align: middle;\n",
       "    }\n",
       "\n",
       "    .dataframe tbody tr th {\n",
       "        vertical-align: top;\n",
       "    }\n",
       "\n",
       "    .dataframe thead th {\n",
       "        text-align: right;\n",
       "    }\n",
       "</style>\n",
       "<table border=\"1\" class=\"dataframe\">\n",
       "  <thead>\n",
       "    <tr style=\"text-align: right;\">\n",
       "      <th></th>\n",
       "      <th>accuracy</th>\n",
       "      <th>recall</th>\n",
       "      <th>precision</th>\n",
       "      <th>f1_score</th>\n",
       "      <th>auc</th>\n",
       "    </tr>\n",
       "  </thead>\n",
       "  <tbody>\n",
       "    <tr>\n",
       "      <th>0</th>\n",
       "      <td>0.959267</td>\n",
       "      <td>0.0</td>\n",
       "      <td>0.0</td>\n",
       "      <td>0.0</td>\n",
       "      <td>0.853503</td>\n",
       "    </tr>\n",
       "  </tbody>\n",
       "</table>\n",
       "</div>"
      ],
      "text/plain": [
       "   accuracy  recall  precision  f1_score       auc\n",
       "0  0.959267     0.0        0.0       0.0  0.853503"
      ]
     },
     "execution_count": 91,
     "metadata": {},
     "output_type": "execute_result"
    }
   ],
   "source": [
    "calc_class_metrics(y_test,y_preds,y_preds_proba[:, 1])"
   ]
  },
  {
   "cell_type": "code",
   "execution_count": 96,
   "metadata": {},
   "outputs": [
    {
     "data": {
      "text/plain": [
       "(array([0.        , 0.        , 0.00212314, 0.00212314, 0.00636943,\n",
       "        0.00636943, 0.01061571, 0.01061571, 0.01698514, 0.01698514,\n",
       "        0.02123142, 0.02123142, 0.02229299, 0.02229299, 0.02441614,\n",
       "        0.02441614, 0.04352442, 0.04352442, 0.04670913, 0.04670913,\n",
       "        0.05201699, 0.05201699, 0.05626327, 0.05626327, 0.06157113,\n",
       "        0.06157113, 0.08280255, 0.08280255, 0.09235669, 0.09235669,\n",
       "        0.09660297, 0.09660297, 0.09872611, 0.09872611, 0.11677282,\n",
       "        0.11677282, 0.17409766, 0.17409766, 0.18471338, 0.18471338,\n",
       "        0.20169851, 0.20169851, 0.22399151, 0.22399151, 0.22717622,\n",
       "        0.22717622, 0.23354565, 0.23354565, 0.33333333, 0.33333333,\n",
       "        0.36518047, 0.36518047, 0.46178344, 0.46178344, 0.47239915,\n",
       "        0.47239915, 0.52653928, 0.52653928, 0.52760085, 0.52760085,\n",
       "        0.57643312, 0.57643312, 1.        ]),\n",
       " array([0.   , 0.025, 0.025, 0.05 , 0.05 , 0.075, 0.075, 0.15 , 0.15 ,\n",
       "        0.175, 0.175, 0.2  , 0.2  , 0.25 , 0.25 , 0.275, 0.275, 0.3  ,\n",
       "        0.3  , 0.325, 0.325, 0.4  , 0.4  , 0.45 , 0.45 , 0.475, 0.475,\n",
       "        0.525, 0.525, 0.55 , 0.55 , 0.6  , 0.6  , 0.625, 0.625, 0.675,\n",
       "        0.675, 0.7  , 0.7  , 0.725, 0.725, 0.75 , 0.75 , 0.775, 0.775,\n",
       "        0.8  , 0.8  , 0.825, 0.825, 0.85 , 0.85 , 0.875, 0.875, 0.9  ,\n",
       "        0.9  , 0.925, 0.925, 0.95 , 0.95 , 0.975, 0.975, 1.   , 1.   ]),\n",
       " array([       inf, 0.42960521, 0.33603483, 0.31540007, 0.29294925,\n",
       "        0.27955488, 0.25219965, 0.22905351, 0.2147976 , 0.20934059,\n",
       "        0.20104002, 0.20098337, 0.19970386, 0.19013794, 0.18777613,\n",
       "        0.18139477, 0.16563218, 0.1647224 , 0.16229924, 0.16107732,\n",
       "        0.15664784, 0.15567214, 0.15257898, 0.15110062, 0.14437449,\n",
       "        0.14142927, 0.12603867, 0.12536463, 0.11626987, 0.11618157,\n",
       "        0.11379705, 0.11178108, 0.1113963 , 0.11111742, 0.10091629,\n",
       "        0.09878675, 0.06629366, 0.06599283, 0.06351102, 0.06279712,\n",
       "        0.05899768, 0.05876577, 0.05259886, 0.05248637, 0.05240935,\n",
       "        0.05176981, 0.05111787, 0.05092483, 0.03192598, 0.03179941,\n",
       "        0.02765984, 0.0274518 , 0.01869186, 0.0186776 , 0.01783054,\n",
       "        0.01758336, 0.01243685, 0.01243248, 0.0122836 , 0.01194507,\n",
       "        0.00937899, 0.00936795, 0.0009084 ]))"
      ]
     },
     "execution_count": 96,
     "metadata": {},
     "output_type": "execute_result"
    }
   ],
   "source": [
    "fpr, tpr, thresholds = roc_curve(y_test,y_preds_proba[:,1])\n",
    "fpr, tpr, thresholds"
   ]
  },
  {
   "cell_type": "code",
   "execution_count": 101,
   "metadata": {},
   "outputs": [
    {
     "data": {
      "image/png": "[encoded data removed]",
      "text/plain": [
       "<Figure size 640x480 with 1 Axes>"
      ]
     },
     "metadata": {},
     "output_type": "display_data"
    }
   ],
   "source": [
    "plt.plot(\n",
    "    fpr,\n",
    "    tpr,\n",
    "    label=\"ROC curve (area = {0:0.2f})\".format(roc_auc_score(y_test,y_preds_proba[:,1])),\n",
    "    color=\"navy\",\n",
    "#     linestyle=\":\",\n",
    "    linewidth=4,\n",
    ")\n",
    "\n",
    "plt.xlabel(\"False Positive Rate\")\n",
    "plt.ylabel(\"True Positive Rate\")\n",
    "plt.legend(loc=\"lower right\",prop={'size': 6})\n",
    "plt.show()\n"
   ]
  },
  {
   "cell_type": "code",
   "execution_count": 104,
   "metadata": {},
   "outputs": [],
   "source": [
    "precision, recall, thresholds = precision_recall_curve(y_test,y_preds_proba[:,1])"
   ]
  },
  {
   "cell_type": "code",
   "execution_count": 114,
   "metadata": {},
   "outputs": [
    {
     "data": {
      "image/png": "[encoded data removed]",
      "text/plain": [
       "<Figure size 640x480 with 1 Axes>"
      ]
     },
     "metadata": {},
     "output_type": "display_data"
    }
   ],
   "source": [
    "plt.plot(\n",
    "    precision,\n",
    "    recall,\n",
    "    label=\"Prec-Recall curve (area = {0:0.2f})\".format(average_precision_score(y_test,y_preds_proba[:,1])),\n",
    "    color=\"navy\",\n",
    "#     linestyle=\":\",\n",
    "    linewidth=4,\n",
    ")\n",
    "\n",
    "plt.xlabel(\"Precision\")\n",
    "plt.ylabel(\"Recall\")\n",
    "plt.legend(loc=\"upper right\",prop={'size': 8})\n",
    "plt.show()\n"
   ]
  },
  {
   "cell_type": "markdown",
   "metadata": {},
   "source": [
    "# Random Undersampling (RUS)"
   ]
  },
  {
   "cell_type": "code",
   "execution_count": 122,
   "metadata": {},
   "outputs": [
    {
     "name": "stdout",
     "output_type": "stream",
     "text": [
      "(338, 14) (982, 14)\n"
     ]
    }
   ],
   "source": [
    "x = data[data.columns.drop('stroke')]\n",
    "y = data['stroke']\n",
    "x_train, x_test, y_train, y_test = train_test_split(x,y, test_size=0.2,random_state=123)\n",
    "\n",
    "rus = RandomUnderSampler(random_state=SEED, sampling_strategy='majority')\n",
    "x_train,y_train = rus.fit_resample(x_train,y_train)\n",
    "\n",
    "print(x_train.shape,x_test.shape)"
   ]
  },
  {
   "cell_type": "code",
   "execution_count": 123,
   "metadata": {},
   "outputs": [
    {
     "data": {
      "text/plain": [
       "stroke\n",
       "0    169\n",
       "1    169\n",
       "Name: count, dtype: int64"
      ]
     },
     "execution_count": 123,
     "metadata": {},
     "output_type": "execute_result"
    }
   ],
   "source": [
    "y_train.value_counts()"
   ]
  },
  {
   "cell_type": "code",
   "execution_count": 124,
   "metadata": {},
   "outputs": [],
   "source": [
    "rob_scaler = RobustScaler()\n",
    "x_train[num_cols] = rob_scaler.fit_transform(x_train[num_cols])\n",
    "x_test[num_cols] = rob_scaler.transform(x_test[num_cols])\n",
    "\n",
    "model = LogisticRegression()\n",
    "model.fit(x_train, y_train)\n",
    "\n",
    "y_preds = model.predict(x_test)\n",
    "y_preds_proba = model.predict_proba(x_test)"
   ]
  },
  {
   "cell_type": "code",
   "execution_count": 126,
   "metadata": {},
   "outputs": [
    {
     "data": {
      "text/plain": [
       "<sklearn.metrics._plot.confusion_matrix.ConfusionMatrixDisplay at 0x2221c293df0>"
      ]
     },
     "execution_count": 126,
     "metadata": {},
     "output_type": "execute_result"
    },
    {
     "data": {
      "image/png": "[encoded data removed]",
      "text/plain": [
       "<Figure size 640x480 with 2 Axes>"
      ]
     },
     "metadata": {},
     "output_type": "display_data"
    }
   ],
   "source": [
    "cm = confusion_matrix(y_test,y_preds,labels = [0,1])\n",
    "cm_plot = ConfusionMatrixDisplay(confusion_matrix=cm,display_labels=model.classes_)\n",
    "cm_plot.plot()\n"
   ]
  },
  {
   "cell_type": "code",
   "execution_count": 127,
   "metadata": {},
   "outputs": [
    {
     "data": {
      "text/html": [
       "<div>\n",
       "<style scoped>\n",
       "    .dataframe tbody tr th:only-of-type {\n",
       "        vertical-align: middle;\n",
       "    }\n",
       "\n",
       "    .dataframe tbody tr th {\n",
       "        vertical-align: top;\n",
       "    }\n",
       "\n",
       "    .dataframe thead th {\n",
       "        text-align: right;\n",
       "    }\n",
       "</style>\n",
       "<table border=\"1\" class=\"dataframe\">\n",
       "  <thead>\n",
       "    <tr style=\"text-align: right;\">\n",
       "      <th></th>\n",
       "      <th>accuracy</th>\n",
       "      <th>recall</th>\n",
       "      <th>precision</th>\n",
       "      <th>f1_score</th>\n",
       "      <th>auc</th>\n",
       "    </tr>\n",
       "  </thead>\n",
       "  <tbody>\n",
       "    <tr>\n",
       "      <th>0</th>\n",
       "      <td>0.709776</td>\n",
       "      <td>0.8</td>\n",
       "      <td>0.10356</td>\n",
       "      <td>0.183381</td>\n",
       "      <td>0.846683</td>\n",
       "    </tr>\n",
       "  </tbody>\n",
       "</table>\n",
       "</div>"
      ],
      "text/plain": [
       "   accuracy  recall  precision  f1_score       auc\n",
       "0  0.709776     0.8    0.10356  0.183381  0.846683"
      ]
     },
     "execution_count": 127,
     "metadata": {},
     "output_type": "execute_result"
    }
   ],
   "source": [
    "calc_class_metrics(y_test,y_preds,y_preds_proba[:, 1])"
   ]
  },
  {
   "cell_type": "code",
   "execution_count": 128,
   "metadata": {},
   "outputs": [
    {
     "data": {
      "image/png": "[encoded data removed]",
      "text/plain": [
       "<Figure size 640x480 with 1 Axes>"
      ]
     },
     "metadata": {},
     "output_type": "display_data"
    }
   ],
   "source": [
    "fpr, tpr, thresholds = roc_curve(y_test,y_preds_proba[:,1])\n",
    "plt.plot(\n",
    "    fpr,\n",
    "    tpr,\n",
    "    label=\"ROC curve (area = {0:0.2f})\".format(roc_auc_score(y_test,y_preds_proba[:,1])),\n",
    "    color=\"navy\",\n",
    "#     linestyle=\":\",\n",
    "    linewidth=4,\n",
    ")\n",
    "\n",
    "plt.xlabel(\"False Positive Rate\")\n",
    "plt.ylabel(\"True Positive Rate\")\n",
    "plt.legend(loc=\"lower right\",prop={'size': 6})\n",
    "plt.show()\n"
   ]
  },
  {
   "cell_type": "markdown",
   "metadata": {},
   "source": [
    "# SMOTE & ROS"
   ]
  },
  {
   "cell_type": "code",
   "execution_count": 130,
   "metadata": {},
   "outputs": [
    {
     "name": "stdout",
     "output_type": "stream",
     "text": [
      "(7514, 14) (982, 14)\n"
     ]
    }
   ],
   "source": [
    "x = data[data.columns.drop('stroke')]\n",
    "y = data['stroke']\n",
    "x_train, x_test, y_train, y_test = train_test_split(x,y, test_size=0.2,random_state=123)\n",
    "\n",
    "ros = RandomOverSampler(random_state=SEED, sampling_strategy='minority')\n",
    "x_train,y_train = ros.fit_resample(x_train,y_train)\n",
    "\n",
    "print(x_train.shape,x_test.shape)"
   ]
  },
  {
   "cell_type": "code",
   "execution_count": 132,
   "metadata": {},
   "outputs": [
    {
     "data": {
      "text/plain": [
       "stroke\n",
       "0    3757\n",
       "1    3757\n",
       "Name: count, dtype: int64"
      ]
     },
     "execution_count": 132,
     "metadata": {},
     "output_type": "execute_result"
    }
   ],
   "source": [
    "y_train.value_counts()"
   ]
  },
  {
   "cell_type": "code",
   "execution_count": 131,
   "metadata": {},
   "outputs": [],
   "source": [
    "rob_scaler = RobustScaler()\n",
    "x_train[num_cols] = rob_scaler.fit_transform(x_train[num_cols])\n",
    "x_test[num_cols] = rob_scaler.transform(x_test[num_cols])\n",
    "\n",
    "model = LogisticRegression()\n",
    "model.fit(x_train, y_train)\n",
    "\n",
    "y_preds = model.predict(x_test)\n",
    "y_preds_proba = model.predict_proba(x_test)"
   ]
  },
  {
   "cell_type": "code",
   "execution_count": 135,
   "metadata": {},
   "outputs": [
    {
     "data": {
      "text/plain": [
       "<sklearn.metrics._plot.confusion_matrix.ConfusionMatrixDisplay at 0x2221e8ad690>"
      ]
     },
     "execution_count": 135,
     "metadata": {},
     "output_type": "execute_result"
    },
    {
     "data": {
      "image/png": "[encoded data removed]",
      "text/plain": [
       "<Figure size 640x480 with 2 Axes>"
      ]
     },
     "metadata": {},
     "output_type": "display_data"
    }
   ],
   "source": [
    "cm = confusion_matrix(y_test,y_preds,labels = [0,1])\n",
    "cm_plot = ConfusionMatrixDisplay(confusion_matrix=cm,display_labels=model.classes_)\n",
    "cm_plot.plot()\n"
   ]
  },
  {
   "cell_type": "code",
   "execution_count": 134,
   "metadata": {},
   "outputs": [
    {
     "data": {
      "text/html": [
       "<div>\n",
       "<style scoped>\n",
       "    .dataframe tbody tr th:only-of-type {\n",
       "        vertical-align: middle;\n",
       "    }\n",
       "\n",
       "    .dataframe tbody tr th {\n",
       "        vertical-align: top;\n",
       "    }\n",
       "\n",
       "    .dataframe thead th {\n",
       "        text-align: right;\n",
       "    }\n",
       "</style>\n",
       "<table border=\"1\" class=\"dataframe\">\n",
       "  <thead>\n",
       "    <tr style=\"text-align: right;\">\n",
       "      <th></th>\n",
       "      <th>accuracy</th>\n",
       "      <th>recall</th>\n",
       "      <th>precision</th>\n",
       "      <th>f1_score</th>\n",
       "      <th>auc</th>\n",
       "    </tr>\n",
       "  </thead>\n",
       "  <tbody>\n",
       "    <tr>\n",
       "      <th>0</th>\n",
       "      <td>0.755601</td>\n",
       "      <td>0.825</td>\n",
       "      <td>0.12406</td>\n",
       "      <td>0.215686</td>\n",
       "      <td>0.854087</td>\n",
       "    </tr>\n",
       "  </tbody>\n",
       "</table>\n",
       "</div>"
      ],
      "text/plain": [
       "   accuracy  recall  precision  f1_score       auc\n",
       "0  0.755601   0.825    0.12406  0.215686  0.854087"
      ]
     },
     "execution_count": 134,
     "metadata": {},
     "output_type": "execute_result"
    }
   ],
   "source": [
    "calc_class_metrics(y_test,y_preds,y_preds_proba[:, 1])"
   ]
  },
  {
   "cell_type": "code",
   "execution_count": 136,
   "metadata": {},
   "outputs": [
    {
     "name": "stdout",
     "output_type": "stream",
     "text": [
      "(7514, 14) (982, 14)\n"
     ]
    }
   ],
   "source": [
    "x = data[data.columns.drop('stroke')]\n",
    "y = data['stroke']\n",
    "x_train, x_test, y_train, y_test = train_test_split(x,y, test_size=0.2,random_state=123)\n",
    "\n",
    "ros = SMOTE(random_state=SEED, sampling_strategy='minority')\n",
    "x_train,y_train = ros.fit_resample(x_train,y_train)\n",
    "\n",
    "print(x_train.shape,x_test.shape)"
   ]
  },
  {
   "cell_type": "code",
   "execution_count": 137,
   "metadata": {},
   "outputs": [],
   "source": [
    "rob_scaler = RobustScaler()\n",
    "x_train[num_cols] = rob_scaler.fit_transform(x_train[num_cols])\n",
    "x_test[num_cols] = rob_scaler.transform(x_test[num_cols])\n",
    "\n",
    "model = LogisticRegression()\n",
    "model.fit(x_train, y_train)\n",
    "\n",
    "y_preds = model.predict(x_test)\n",
    "y_preds_proba = model.predict_proba(x_test)"
   ]
  },
  {
   "cell_type": "code",
   "execution_count": 138,
   "metadata": {},
   "outputs": [
    {
     "data": {
      "text/plain": [
       "<sklearn.metrics._plot.confusion_matrix.ConfusionMatrixDisplay at 0x2221e70ded0>"
      ]
     },
     "execution_count": 138,
     "metadata": {},
     "output_type": "execute_result"
    },
    {
     "data": {
      "image/png": "[encoded data removed]",
      "text/plain": [
       "<Figure size 640x480 with 2 Axes>"
      ]
     },
     "metadata": {},
     "output_type": "display_data"
    }
   ],
   "source": [
    "cm = confusion_matrix(y_test,y_preds,labels = [0,1])\n",
    "cm_plot = ConfusionMatrixDisplay(confusion_matrix=cm,display_labels=model.classes_)\n",
    "cm_plot.plot()\n"
   ]
  },
  {
   "cell_type": "code",
   "execution_count": 139,
   "metadata": {},
   "outputs": [
    {
     "data": {
      "text/html": [
       "<div>\n",
       "<style scoped>\n",
       "    .dataframe tbody tr th:only-of-type {\n",
       "        vertical-align: middle;\n",
       "    }\n",
       "\n",
       "    .dataframe tbody tr th {\n",
       "        vertical-align: top;\n",
       "    }\n",
       "\n",
       "    .dataframe thead th {\n",
       "        text-align: right;\n",
       "    }\n",
       "</style>\n",
       "<table border=\"1\" class=\"dataframe\">\n",
       "  <thead>\n",
       "    <tr style=\"text-align: right;\">\n",
       "      <th></th>\n",
       "      <th>accuracy</th>\n",
       "      <th>recall</th>\n",
       "      <th>precision</th>\n",
       "      <th>f1_score</th>\n",
       "      <th>auc</th>\n",
       "    </tr>\n",
       "  </thead>\n",
       "  <tbody>\n",
       "    <tr>\n",
       "      <th>0</th>\n",
       "      <td>0.851324</td>\n",
       "      <td>0.525</td>\n",
       "      <td>0.141892</td>\n",
       "      <td>0.223404</td>\n",
       "      <td>0.824337</td>\n",
       "    </tr>\n",
       "  </tbody>\n",
       "</table>\n",
       "</div>"
      ],
      "text/plain": [
       "   accuracy  recall  precision  f1_score       auc\n",
       "0  0.851324   0.525   0.141892  0.223404  0.824337"
      ]
     },
     "execution_count": 139,
     "metadata": {},
     "output_type": "execute_result"
    }
   ],
   "source": [
    "calc_class_metrics(y_test,y_preds,y_preds_proba[:, 1])"
   ]
  },
  {
   "cell_type": "markdown",
   "metadata": {},
   "source": [
    "# Class Weighting"
   ]
  },
  {
   "cell_type": "code",
   "execution_count": 146,
   "metadata": {},
   "outputs": [
    {
     "name": "stdout",
     "output_type": "stream",
     "text": [
      "(3926, 14) (982, 14)\n"
     ]
    },
    {
     "data": {
      "text/plain": [
       "array([ 0.52249135, 11.61538462])"
      ]
     },
     "execution_count": 146,
     "metadata": {},
     "output_type": "execute_result"
    }
   ],
   "source": [
    "x = data[data.columns.drop('stroke')]\n",
    "y = data['stroke']\n",
    "x_train, x_test, y_train, y_test = train_test_split(x,y, test_size=0.2,random_state=123)\n",
    "\n",
    "print(x_train.shape,x_test.shape)\n",
    "class_weights = compute_class_weight(class_weight=\"balanced\", classes=np.unique(y_train), y=y_train)\n",
    "class_weights"
   ]
  },
  {
   "cell_type": "code",
   "execution_count": 145,
   "metadata": {},
   "outputs": [
    {
     "data": {
      "text/plain": [
       "{0: 0.5224913494809689, 1: 11.615384615384615}"
      ]
     },
     "execution_count": 145,
     "metadata": {},
     "output_type": "execute_result"
    }
   ],
   "source": [
    "cw_dict = {0:class_weights[0],1:class_weights[1]}\n",
    "cw_dict"
   ]
  },
  {
   "cell_type": "code",
   "execution_count": 147,
   "metadata": {},
   "outputs": [],
   "source": [
    "rob_scaler = RobustScaler()\n",
    "x_train[num_cols] = rob_scaler.fit_transform(x_train[num_cols])\n",
    "x_test[num_cols] = rob_scaler.transform(x_test[num_cols])\n",
    "\n",
    "model = LogisticRegression(class_weight=cw_dict)\n",
    "model.fit(x_train, y_train)\n",
    "\n",
    "y_preds = model.predict(x_test)\n",
    "y_preds_proba = model.predict_proba(x_test)"
   ]
  },
  {
   "cell_type": "code",
   "execution_count": 149,
   "metadata": {},
   "outputs": [
    {
     "data": {
      "text/plain": [
       "<sklearn.metrics._plot.confusion_matrix.ConfusionMatrixDisplay at 0x2221e70f070>"
      ]
     },
     "execution_count": 149,
     "metadata": {},
     "output_type": "execute_result"
    },
    {
     "data": {
      "image/png": "[encoded data removed]",
      "text/plain": [
       "<Figure size 640x480 with 2 Axes>"
      ]
     },
     "metadata": {},
     "output_type": "display_data"
    }
   ],
   "source": [
    "cm = confusion_matrix(y_test,y_preds,labels = [0,1])\n",
    "cm_plot = ConfusionMatrixDisplay(confusion_matrix=cm,display_labels=model.classes_)\n",
    "cm_plot.plot()\n"
   ]
  },
  {
   "cell_type": "code",
   "execution_count": 148,
   "metadata": {},
   "outputs": [
    {
     "data": {
      "text/html": [
       "<div>\n",
       "<style scoped>\n",
       "    .dataframe tbody tr th:only-of-type {\n",
       "        vertical-align: middle;\n",
       "    }\n",
       "\n",
       "    .dataframe tbody tr th {\n",
       "        vertical-align: top;\n",
       "    }\n",
       "\n",
       "    .dataframe thead th {\n",
       "        text-align: right;\n",
       "    }\n",
       "</style>\n",
       "<table border=\"1\" class=\"dataframe\">\n",
       "  <thead>\n",
       "    <tr style=\"text-align: right;\">\n",
       "      <th></th>\n",
       "      <th>accuracy</th>\n",
       "      <th>recall</th>\n",
       "      <th>precision</th>\n",
       "      <th>f1_score</th>\n",
       "      <th>auc</th>\n",
       "    </tr>\n",
       "  </thead>\n",
       "  <tbody>\n",
       "    <tr>\n",
       "      <th>0</th>\n",
       "      <td>0.744399</td>\n",
       "      <td>0.825</td>\n",
       "      <td>0.119134</td>\n",
       "      <td>0.208202</td>\n",
       "      <td>0.853025</td>\n",
       "    </tr>\n",
       "  </tbody>\n",
       "</table>\n",
       "</div>"
      ],
      "text/plain": [
       "   accuracy  recall  precision  f1_score       auc\n",
       "0  0.744399   0.825   0.119134  0.208202  0.853025"
      ]
     },
     "execution_count": 148,
     "metadata": {},
     "output_type": "execute_result"
    }
   ],
   "source": [
    "calc_class_metrics(y_test,y_preds,y_preds_proba[:, 1])"
   ]
  }
 ],
 "metadata": {
  "kernelspec": {
   "display_name": "torch_py310",
   "language": "python",
   "name": "python3"
  },
  "language_info": {
   "codemirror_mode": {
    "name": "ipython",
    "version": 3
   },
   "file_extension": ".py",
   "mimetype": "text/x-python",
   "name": "python",
   "nbconvert_exporter": "python",
   "pygments_lexer": "ipython3",
   "version": "3.10.15"
  }
 },
 "nbformat": 4,
 "nbformat_minor": 2
}
